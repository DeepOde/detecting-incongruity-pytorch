{
  "nbformat": 4,
  "nbformat_minor": 0,
  "metadata": {
    "colab": {
      "name": "First.ipynb",
      "provenance": [],
      "collapsed_sections": []
    },
    "kernelspec": {
      "name": "python3",
      "display_name": "Python 3"
    },
    "language_info": {
      "name": "python"
    },
    "accelerator": "GPU"
  },
  "cells": [
    {
      "cell_type": "code",
      "metadata": {
        "colab": {
          "base_uri": "https://localhost:8080/"
        },
        "id": "VJo9dm0JE5D_",
        "outputId": "e623d643-3a24-45ac-ee9f-35c130a665ce"
      },
      "source": [
        "from google.colab import drive\n",
        "drive.mount('/content/drive/')"
      ],
      "execution_count": null,
      "outputs": [
        {
          "output_type": "stream",
          "name": "stdout",
          "text": [
            "Mounted at /content/drive/\n"
          ]
        }
      ]
    },
    {
      "cell_type": "code",
      "metadata": {
        "id": "kZUSZbJJ-I9b"
      },
      "source": [
        "!pip install -U sentence-transformers"
      ],
      "execution_count": null,
      "outputs": []
    },
    {
      "cell_type": "code",
      "metadata": {
        "id": "quDLzWsn7CBu"
      },
      "source": [
        "from sentence_transformers import SentenceTransformer, util\n",
        "model = SentenceTransformer('multi-qa-MiniLM-L6-cos-v1')"
      ],
      "execution_count": null,
      "outputs": []
    },
    {
      "cell_type": "code",
      "metadata": {
        "id": "kglZ2GgwTQCQ"
      },
      "source": [
        "import pandas as pd\n",
        "import numpy as np\n",
        "import torch\n",
        "import torch.nn as nn"
      ],
      "execution_count": null,
      "outputs": []
    },
    {
      "cell_type": "code",
      "metadata": {
        "colab": {
          "base_uri": "https://localhost:8080/",
          "height": 205
        },
        "id": "kiGNRsexWQCu",
        "outputId": "a833dc5f-55cf-46cf-dd7e-38e188f43789"
      },
      "source": [
        "train_raw = pd.read_csv(\"drive/MyDrive/CSVALL/train.csv\", names=['headline', 'body', 'label'])\n",
        "train_raw.head()"
      ],
      "execution_count": null,
      "outputs": [
        {
          "output_type": "execute_result",
          "data": {
            "text/html": [
              "<div>\n",
              "<style scoped>\n",
              "    .dataframe tbody tr th:only-of-type {\n",
              "        vertical-align: middle;\n",
              "    }\n",
              "\n",
              "    .dataframe tbody tr th {\n",
              "        vertical-align: top;\n",
              "    }\n",
              "\n",
              "    .dataframe thead th {\n",
              "        text-align: right;\n",
              "    }\n",
              "</style>\n",
              "<table border=\"1\" class=\"dataframe\">\n",
              "  <thead>\n",
              "    <tr style=\"text-align: right;\">\n",
              "      <th></th>\n",
              "      <th>headline</th>\n",
              "      <th>body</th>\n",
              "      <th>label</th>\n",
              "    </tr>\n",
              "  </thead>\n",
              "  <tbody>\n",
              "    <tr>\n",
              "      <th>0</th>\n",
              "      <td>Politico Reporter Drunkenly Unloads On Trump A...</td>\n",
              "      <td>Politico Playbook writer Anna Palmer pulled a ...</td>\n",
              "      <td>0</td>\n",
              "    </tr>\n",
              "    <tr>\n",
              "      <th>1</th>\n",
              "      <td>CNN ’ s Jim Acosta Hits Back At Sean Hannity ,...</td>\n",
              "      <td>CNN White House correspondent Jim Acosta found...</td>\n",
              "      <td>1</td>\n",
              "    </tr>\n",
              "    <tr>\n",
              "      <th>2</th>\n",
              "      <td>Is This The Biggest Climate Change Scam Yet ?</td>\n",
              "      <td>Among the many reasons conservatives favor sma...</td>\n",
              "      <td>0</td>\n",
              "    </tr>\n",
              "    <tr>\n",
              "      <th>3</th>\n",
              "      <td>Trump Wins – Supreme Court Reinstates Presiden...</td>\n",
              "      <td>So much winning . &lt;EOS&gt; The Supreme Court is l...</td>\n",
              "      <td>1</td>\n",
              "    </tr>\n",
              "    <tr>\n",
              "      <th>4</th>\n",
              "      <td>Sequoia Forest ’ s ‘ National Monument ’ Statu...</td>\n",
              "      <td>The Portersville City Council has approved a d...</td>\n",
              "      <td>0</td>\n",
              "    </tr>\n",
              "  </tbody>\n",
              "</table>\n",
              "</div>"
            ],
            "text/plain": [
              "                                            headline  ... label\n",
              "0  Politico Reporter Drunkenly Unloads On Trump A...  ...     0\n",
              "1  CNN ’ s Jim Acosta Hits Back At Sean Hannity ,...  ...     1\n",
              "2      Is This The Biggest Climate Change Scam Yet ?  ...     0\n",
              "3  Trump Wins – Supreme Court Reinstates Presiden...  ...     1\n",
              "4  Sequoia Forest ’ s ‘ National Monument ’ Statu...  ...     0\n",
              "\n",
              "[5 rows x 3 columns]"
            ]
          },
          "metadata": {},
          "execution_count": 5
        }
      ]
    },
    {
      "cell_type": "code",
      "metadata": {
        "id": "wvm6MSMQWwAS"
      },
      "source": [
        "def body_to_para(body, max_para = 50):\n",
        "    para_mask = np.zeros(max_para)\n",
        "    paras = body.split(\"<EOP>\")\n",
        "    if len(paras) >= max_para:\n",
        "        return np.array([np.array(paras[:max_para]), para_mask])\n",
        "    else:\n",
        "        pad_by = max_para - len(paras)\n",
        "        para_mask[-pad_by:] = np.ones(pad_by)\n",
        "        for i in range(pad_by):\n",
        "            paras.append(\"\")\n",
        "        ans =  np.vstack([np.array(paras), para_mask])\n",
        "        return ans"
      ],
      "execution_count": null,
      "outputs": []
    },
    {
      "cell_type": "code",
      "metadata": {
        "id": "1Thg_Nr7fNxb"
      },
      "source": [
        "def bertify(apply_ans):\n",
        "    embeddings = []\n",
        "    para_masks = []\n",
        "    for i in range(len(apply_ans)):\n",
        "        embeddings.append(model.encode(apply_ans.iloc[i][0], device = 'cuda'))\n",
        "        para_masks.append(apply_ans.iloc[i][1])\n",
        "\n",
        "    return np.array(embeddings), np.array(para_masks)"
      ],
      "execution_count": null,
      "outputs": []
    },
    {
      "cell_type": "code",
      "metadata": {
        "id": "BC0yjrj3qQ50"
      },
      "source": [
        "class ParaHeadlineAttention(nn.Module):\n",
        "    def __init__(self, para_dim, headline_dim, hidden_dim):\n",
        "        super().__init__()\n",
        "        self.linear_para = nn.Linear(para_dim, hidden_dim, bias=False)\n",
        "        self.linear_headline = nn.Linear(headline_dim, hidden_dim, bias=False)\n",
        "        self.v = nn.Parameter(torch.rand(hidden_dim))  # [H_hidden]\n",
        "\n",
        "    def forward(self, paras, para_mask, headline):\n",
        "        # paras: [N, P, H_para]\n",
        "        # para_mask: [N, P]\n",
        "        # headline: [N, H_headline]\n",
        "        z = self.linear_para(paras) + self.linear_headline(headline).unsqueeze(1)  # [N, P, H_hidden]\n",
        "        s = torch.tanh(z).matmul(self.v)  # [N, P]\n",
        "        s[para_mask] = float('-inf')\n",
        "        a = torch.softmax(s, dim=1)  # [N, P]\n",
        "        return torch.matmul(a.unsqueeze(1), paras).squeeze()  # paras: [N, H_para]\n",
        "\n",
        "class FakeNewsClassifier(nn.Module):\n",
        "    def __init__(self, hidden_dims_para, hidden_dims_headline):\n",
        "        super().__init__()\n",
        "        self.attention = ParaHeadlineAttention(hidden_dims_para, hidden_dims_headline, hidden_dims_para)\n",
        "        self.bilinear = nn.Bilinear(hidden_dims_headline, hidden_dims_para, 1)\n",
        "\n",
        "    def forward(self, bodys, para_masks, headlines):\n",
        "        # headline: [N, L_headline], \n",
        "        # headline_lengths: [N],\n",
        "        # bodys: [N, P, L_para], \n",
        "        # para_lengths: [N, P]\n",
        "        \n",
        "        h_body = self.attention(bodys, para_masks, headlines)\n",
        "        return self.bilinear(headlines, h_body).squeeze()"
      ],
      "execution_count": null,
      "outputs": []
    },
    {
      "cell_type": "code",
      "metadata": {
        "colab": {
          "base_uri": "https://localhost:8080/"
        },
        "id": "xRkJfZqhLQZ9",
        "outputId": "5d3dd4e9-207c-4da2-9dc0-b4e838e3896e"
      },
      "source": [
        "if torch.cuda.is_available():\n",
        "    device = 'cuda'\n",
        "    print(\"Light Speed...\")\n",
        "else:\n",
        "    device = 'cpu'\n",
        "    print(\"Slow Speed, Please connect to CUDA\")"
      ],
      "execution_count": null,
      "outputs": [
        {
          "output_type": "stream",
          "name": "stdout",
          "text": [
            "Light Speed...\n"
          ]
        }
      ]
    },
    {
      "cell_type": "code",
      "metadata": {
        "id": "TI-Obo71PPJB"
      },
      "source": [
        ""
      ],
      "execution_count": null,
      "outputs": []
    },
    {
      "cell_type": "code",
      "metadata": {
        "id": "Ctzs2Mpd7N8A",
        "colab": {
          "base_uri": "https://localhost:8080/"
        },
        "outputId": "4ec48d10-9489-480f-96b1-bd33b539b316"
      },
      "source": [
        "classifier = FakeNewsClassifier(384, 384)\n",
        "if device==\"cuda\":\n",
        "    classifier.cuda()\n",
        "    model.cuda()\n",
        "else:\n",
        "    print(\"Please run on GPU.\")\n",
        "def init_weights(m):\n",
        "    if type(m) == torch.nn.Linear:\n",
        "        torch.nn.init.xavier_uniform(m.weight)\n",
        "\n",
        "classifier.apply(init_weights)\n",
        "\n",
        "batch_size = 20\n",
        "lr = 0.1\n",
        "epochs = 1\n",
        "classifier.train()\n",
        "\n",
        "criterion = torch.nn.BCEWithLogitsLoss()\n",
        "optimizer = torch.optim.Adam(classifier.parameters(), lr=lr)\n",
        "\n",
        "for epoch in range(epochs):\n",
        "    for i in range(0, train_raw.shape[0], batch_size):\n",
        "      batch = train_raw.iloc[i:min(train_raw.shape[0], i+batch_size)]\n",
        "      batch.reset_index(inplace = True)\n",
        "      headlines = (model.encode(batch['headline'], device = 'cuda'))\n",
        "      headlines = torch.Tensor(headlines).cuda()\n",
        "      body_mask = batch['body'].apply(body_to_para)\n",
        "      bert_ans, para_masks = bertify(body_mask)\n",
        "      bert_ans = torch.Tensor(bert_ans.astype(np.float)).cuda()\n",
        "      para_masks = torch.Tensor(para_masks.astype(np.float).astype(np.int).astype(np.bool)).cuda()\n",
        "      para_masks = para_masks.bool()\n",
        "      y_pred = classifier(bert_ans, para_masks, headlines)\n",
        "      print(torch.max(y_pred), \":::\", torch.min(y_pred))\n",
        "      loss = criterion(y_pred, torch.Tensor(batch['label']).cuda())\n",
        "      optimizer.zero_grad()\n",
        "      loss.backward()\n",
        "      optimizer.step()\n",
        "      \n",
        "    print(\"Epoch : {}, Loss : {}\".format(epoch, loss))"
      ],
      "execution_count": null,
      "outputs": [
        {
          "output_type": "stream",
          "name": "stderr",
          "text": [
            "/usr/local/lib/python3.7/dist-packages/ipykernel_launcher.py:9: UserWarning: nn.init.xavier_uniform is now deprecated in favor of nn.init.xavier_uniform_.\n",
            "  if __name__ == '__main__':\n"
          ]
        },
        {
          "output_type": "stream",
          "name": "stdout",
          "text": [
            "tensor(0.0223, device='cuda:0', grad_fn=<MaxBackward1>) ::: tensor(-0.0484, device='cuda:0', grad_fn=<MinBackward1>)\n",
            "tensor(0.9229, device='cuda:0', grad_fn=<MaxBackward1>) ::: tensor(-1.8041, device='cuda:0', grad_fn=<MinBackward1>)\n",
            "tensor(4.8267, device='cuda:0', grad_fn=<MaxBackward1>) ::: tensor(-0.8751, device='cuda:0', grad_fn=<MinBackward1>)\n",
            "tensor(5.9888, device='cuda:0', grad_fn=<MaxBackward1>) ::: tensor(-2.0017, device='cuda:0', grad_fn=<MinBackward1>)\n",
            "tensor(2.8322, device='cuda:0', grad_fn=<MaxBackward1>) ::: tensor(-3.0913, device='cuda:0', grad_fn=<MinBackward1>)\n",
            "tensor(3.4699, device='cuda:0', grad_fn=<MaxBackward1>) ::: tensor(-3.6764, device='cuda:0', grad_fn=<MinBackward1>)\n",
            "tensor(2.5293, device='cuda:0', grad_fn=<MaxBackward1>) ::: tensor(-4.5404, device='cuda:0', grad_fn=<MinBackward1>)\n",
            "tensor(2.5069, device='cuda:0', grad_fn=<MaxBackward1>) ::: tensor(-5.8668, device='cuda:0', grad_fn=<MinBackward1>)\n",
            "tensor(5.8110, device='cuda:0', grad_fn=<MaxBackward1>) ::: tensor(-7.3636, device='cuda:0', grad_fn=<MinBackward1>)\n",
            "tensor(2.7379, device='cuda:0', grad_fn=<MaxBackward1>) ::: tensor(-4.6018, device='cuda:0', grad_fn=<MinBackward1>)\n",
            "tensor(4.4773, device='cuda:0', grad_fn=<MaxBackward1>) ::: tensor(-2.2004, device='cuda:0', grad_fn=<MinBackward1>)\n",
            "tensor(5.7581, device='cuda:0', grad_fn=<MaxBackward1>) ::: tensor(-4.9618, device='cuda:0', grad_fn=<MinBackward1>)\n",
            "tensor(5.0131, device='cuda:0', grad_fn=<MaxBackward1>) ::: tensor(-4.8558, device='cuda:0', grad_fn=<MinBackward1>)\n",
            "tensor(2.8311, device='cuda:0', grad_fn=<MaxBackward1>) ::: tensor(-5.7230, device='cuda:0', grad_fn=<MinBackward1>)\n",
            "tensor(10.8983, device='cuda:0', grad_fn=<MaxBackward1>) ::: tensor(-5.0767, device='cuda:0', grad_fn=<MinBackward1>)\n",
            "tensor(8.9258, device='cuda:0', grad_fn=<MaxBackward1>) ::: tensor(-4.3502, device='cuda:0', grad_fn=<MinBackward1>)\n",
            "tensor(5.1944, device='cuda:0', grad_fn=<MaxBackward1>) ::: tensor(-5.9578, device='cuda:0', grad_fn=<MinBackward1>)\n",
            "tensor(6.7507, device='cuda:0', grad_fn=<MaxBackward1>) ::: tensor(-1.2103, device='cuda:0', grad_fn=<MinBackward1>)\n",
            "tensor(8.9227, device='cuda:0', grad_fn=<MaxBackward1>) ::: tensor(-3.0310, device='cuda:0', grad_fn=<MinBackward1>)\n",
            "tensor(5.5431, device='cuda:0', grad_fn=<MaxBackward1>) ::: tensor(-6.2565, device='cuda:0', grad_fn=<MinBackward1>)\n",
            "tensor(6.9692, device='cuda:0', grad_fn=<MaxBackward1>) ::: tensor(-2.9736, device='cuda:0', grad_fn=<MinBackward1>)\n",
            "tensor(3.1391, device='cuda:0', grad_fn=<MaxBackward1>) ::: tensor(-3.8255, device='cuda:0', grad_fn=<MinBackward1>)\n",
            "tensor(5.6442, device='cuda:0', grad_fn=<MaxBackward1>) ::: tensor(-4.4011, device='cuda:0', grad_fn=<MinBackward1>)\n",
            "tensor(4.4712, device='cuda:0', grad_fn=<MaxBackward1>) ::: tensor(-8.1932, device='cuda:0', grad_fn=<MinBackward1>)\n",
            "tensor(5.8990, device='cuda:0', grad_fn=<MaxBackward1>) ::: tensor(-3.6015, device='cuda:0', grad_fn=<MinBackward1>)\n",
            "tensor(7.3061, device='cuda:0', grad_fn=<MaxBackward1>) ::: tensor(-5.6106, device='cuda:0', grad_fn=<MinBackward1>)\n",
            "tensor(5.8766, device='cuda:0', grad_fn=<MaxBackward1>) ::: tensor(-6.5350, device='cuda:0', grad_fn=<MinBackward1>)\n",
            "tensor(3.6957, device='cuda:0', grad_fn=<MaxBackward1>) ::: tensor(-8.5832, device='cuda:0', grad_fn=<MinBackward1>)\n",
            "tensor(6.0109, device='cuda:0', grad_fn=<MaxBackward1>) ::: tensor(-6.4079, device='cuda:0', grad_fn=<MinBackward1>)\n",
            "tensor(7.5798, device='cuda:0', grad_fn=<MaxBackward1>) ::: tensor(-3.6816, device='cuda:0', grad_fn=<MinBackward1>)\n",
            "tensor(4.4549, device='cuda:0', grad_fn=<MaxBackward1>) ::: tensor(-5.4955, device='cuda:0', grad_fn=<MinBackward1>)\n",
            "tensor(5.3461, device='cuda:0', grad_fn=<MaxBackward1>) ::: tensor(-5.4016, device='cuda:0', grad_fn=<MinBackward1>)\n",
            "tensor(7.2776, device='cuda:0', grad_fn=<MaxBackward1>) ::: tensor(-6.3024, device='cuda:0', grad_fn=<MinBackward1>)\n",
            "tensor(8.7215, device='cuda:0', grad_fn=<MaxBackward1>) ::: tensor(-3.8964, device='cuda:0', grad_fn=<MinBackward1>)\n",
            "tensor(4.9855, device='cuda:0', grad_fn=<MaxBackward1>) ::: tensor(-3.9680, device='cuda:0', grad_fn=<MinBackward1>)\n",
            "tensor(6.9002, device='cuda:0', grad_fn=<MaxBackward1>) ::: tensor(-6.6001, device='cuda:0', grad_fn=<MinBackward1>)\n",
            "tensor(6.2398, device='cuda:0', grad_fn=<MaxBackward1>) ::: tensor(-6.5153, device='cuda:0', grad_fn=<MinBackward1>)\n",
            "tensor(6.8133, device='cuda:0', grad_fn=<MaxBackward1>) ::: tensor(-5.1144, device='cuda:0', grad_fn=<MinBackward1>)\n",
            "tensor(4.3036, device='cuda:0', grad_fn=<MaxBackward1>) ::: tensor(-4.8110, device='cuda:0', grad_fn=<MinBackward1>)\n",
            "tensor(6.4488, device='cuda:0', grad_fn=<MaxBackward1>) ::: tensor(-4.8371, device='cuda:0', grad_fn=<MinBackward1>)\n",
            "tensor(2.8104, device='cuda:0', grad_fn=<MaxBackward1>) ::: tensor(-4.9423, device='cuda:0', grad_fn=<MinBackward1>)\n",
            "tensor(4.7070, device='cuda:0', grad_fn=<MaxBackward1>) ::: tensor(-7.0893, device='cuda:0', grad_fn=<MinBackward1>)\n",
            "tensor(5.7662, device='cuda:0', grad_fn=<MaxBackward1>) ::: tensor(-7.2771, device='cuda:0', grad_fn=<MinBackward1>)\n",
            "tensor(5.4416, device='cuda:0', grad_fn=<MaxBackward1>) ::: tensor(-4.2250, device='cuda:0', grad_fn=<MinBackward1>)\n",
            "tensor(2.8487, device='cuda:0', grad_fn=<MaxBackward1>) ::: tensor(-7.4564, device='cuda:0', grad_fn=<MinBackward1>)\n",
            "tensor(2.9433, device='cuda:0', grad_fn=<MaxBackward1>) ::: tensor(-4.2582, device='cuda:0', grad_fn=<MinBackward1>)\n",
            "tensor(3.5536, device='cuda:0', grad_fn=<MaxBackward1>) ::: tensor(-6.1239, device='cuda:0', grad_fn=<MinBackward1>)\n",
            "tensor(4.6300, device='cuda:0', grad_fn=<MaxBackward1>) ::: tensor(-4.5805, device='cuda:0', grad_fn=<MinBackward1>)\n",
            "tensor(8.8195, device='cuda:0', grad_fn=<MaxBackward1>) ::: tensor(-7.0971, device='cuda:0', grad_fn=<MinBackward1>)\n",
            "tensor(6.6194, device='cuda:0', grad_fn=<MaxBackward1>) ::: tensor(-5.9401, device='cuda:0', grad_fn=<MinBackward1>)\n",
            "tensor(3.2298, device='cuda:0', grad_fn=<MaxBackward1>) ::: tensor(-4.7699, device='cuda:0', grad_fn=<MinBackward1>)\n",
            "tensor(6.8174, device='cuda:0', grad_fn=<MaxBackward1>) ::: tensor(-8.9796, device='cuda:0', grad_fn=<MinBackward1>)\n",
            "tensor(10.2200, device='cuda:0', grad_fn=<MaxBackward1>) ::: tensor(-7.8798, device='cuda:0', grad_fn=<MinBackward1>)\n",
            "tensor(6.5982, device='cuda:0', grad_fn=<MaxBackward1>) ::: tensor(-6.8611, device='cuda:0', grad_fn=<MinBackward1>)\n",
            "tensor(3.9569, device='cuda:0', grad_fn=<MaxBackward1>) ::: tensor(-5.4120, device='cuda:0', grad_fn=<MinBackward1>)\n",
            "tensor(8.9472, device='cuda:0', grad_fn=<MaxBackward1>) ::: tensor(-3.3545, device='cuda:0', grad_fn=<MinBackward1>)\n",
            "tensor(4.5980, device='cuda:0', grad_fn=<MaxBackward1>) ::: tensor(-10.0470, device='cuda:0', grad_fn=<MinBackward1>)\n",
            "tensor(8.5976, device='cuda:0', grad_fn=<MaxBackward1>) ::: tensor(-2.1833, device='cuda:0', grad_fn=<MinBackward1>)\n",
            "tensor(4.2142, device='cuda:0', grad_fn=<MaxBackward1>) ::: tensor(-7.2507, device='cuda:0', grad_fn=<MinBackward1>)\n",
            "tensor(7.9631, device='cuda:0', grad_fn=<MaxBackward1>) ::: tensor(-9.6137, device='cuda:0', grad_fn=<MinBackward1>)\n",
            "tensor(8.4189, device='cuda:0', grad_fn=<MaxBackward1>) ::: tensor(-7.7804, device='cuda:0', grad_fn=<MinBackward1>)\n",
            "tensor(8.1621, device='cuda:0', grad_fn=<MaxBackward1>) ::: tensor(-7.3939, device='cuda:0', grad_fn=<MinBackward1>)\n",
            "tensor(7.4587, device='cuda:0', grad_fn=<MaxBackward1>) ::: tensor(-10.6187, device='cuda:0', grad_fn=<MinBackward1>)\n",
            "tensor(6.8800, device='cuda:0', grad_fn=<MaxBackward1>) ::: tensor(-6.6805, device='cuda:0', grad_fn=<MinBackward1>)\n",
            "tensor(10.8338, device='cuda:0', grad_fn=<MaxBackward1>) ::: tensor(-8.5791, device='cuda:0', grad_fn=<MinBackward1>)\n",
            "tensor(14.4005, device='cuda:0', grad_fn=<MaxBackward1>) ::: tensor(-7.8853, device='cuda:0', grad_fn=<MinBackward1>)\n",
            "tensor(5.9538, device='cuda:0', grad_fn=<MaxBackward1>) ::: tensor(-5.0315, device='cuda:0', grad_fn=<MinBackward1>)\n",
            "tensor(4.0938, device='cuda:0', grad_fn=<MaxBackward1>) ::: tensor(-7.3951, device='cuda:0', grad_fn=<MinBackward1>)\n",
            "tensor(7.9438, device='cuda:0', grad_fn=<MaxBackward1>) ::: tensor(-6.0158, device='cuda:0', grad_fn=<MinBackward1>)\n",
            "tensor(5.6995, device='cuda:0', grad_fn=<MaxBackward1>) ::: tensor(-6.8095, device='cuda:0', grad_fn=<MinBackward1>)\n",
            "tensor(6.5262, device='cuda:0', grad_fn=<MaxBackward1>) ::: tensor(-6.6848, device='cuda:0', grad_fn=<MinBackward1>)\n",
            "tensor(6.4073, device='cuda:0', grad_fn=<MaxBackward1>) ::: tensor(-4.2360, device='cuda:0', grad_fn=<MinBackward1>)\n",
            "tensor(3.4449, device='cuda:0', grad_fn=<MaxBackward1>) ::: tensor(-3.5594, device='cuda:0', grad_fn=<MinBackward1>)\n",
            "tensor(4.8504, device='cuda:0', grad_fn=<MaxBackward1>) ::: tensor(-6.9214, device='cuda:0', grad_fn=<MinBackward1>)\n",
            "tensor(7.7624, device='cuda:0', grad_fn=<MaxBackward1>) ::: tensor(-5.9804, device='cuda:0', grad_fn=<MinBackward1>)\n",
            "tensor(3.4356, device='cuda:0', grad_fn=<MaxBackward1>) ::: tensor(-7.1412, device='cuda:0', grad_fn=<MinBackward1>)\n",
            "tensor(7.3134, device='cuda:0', grad_fn=<MaxBackward1>) ::: tensor(-5.2949, device='cuda:0', grad_fn=<MinBackward1>)\n",
            "tensor(7.5780, device='cuda:0', grad_fn=<MaxBackward1>) ::: tensor(-4.7614, device='cuda:0', grad_fn=<MinBackward1>)\n",
            "tensor(6.2647, device='cuda:0', grad_fn=<MaxBackward1>) ::: tensor(-7.5363, device='cuda:0', grad_fn=<MinBackward1>)\n",
            "tensor(4.3066, device='cuda:0', grad_fn=<MaxBackward1>) ::: tensor(-8.4642, device='cuda:0', grad_fn=<MinBackward1>)\n",
            "tensor(7.1068, device='cuda:0', grad_fn=<MaxBackward1>) ::: tensor(-7.8843, device='cuda:0', grad_fn=<MinBackward1>)\n",
            "tensor(9.4145, device='cuda:0', grad_fn=<MaxBackward1>) ::: tensor(-7.9316, device='cuda:0', grad_fn=<MinBackward1>)\n",
            "tensor(6.8734, device='cuda:0', grad_fn=<MaxBackward1>) ::: tensor(-6.0522, device='cuda:0', grad_fn=<MinBackward1>)\n",
            "tensor(12.5349, device='cuda:0', grad_fn=<MaxBackward1>) ::: tensor(-7.5118, device='cuda:0', grad_fn=<MinBackward1>)\n",
            "tensor(7.1565, device='cuda:0', grad_fn=<MaxBackward1>) ::: tensor(-3.7950, device='cuda:0', grad_fn=<MinBackward1>)\n",
            "tensor(4.7626, device='cuda:0', grad_fn=<MaxBackward1>) ::: tensor(-6.4634, device='cuda:0', grad_fn=<MinBackward1>)\n",
            "tensor(6.2567, device='cuda:0', grad_fn=<MaxBackward1>) ::: tensor(-7.4600, device='cuda:0', grad_fn=<MinBackward1>)\n",
            "tensor(7.4895, device='cuda:0', grad_fn=<MaxBackward1>) ::: tensor(-5.6301, device='cuda:0', grad_fn=<MinBackward1>)\n",
            "tensor(7.8079, device='cuda:0', grad_fn=<MaxBackward1>) ::: tensor(-4.5443, device='cuda:0', grad_fn=<MinBackward1>)\n",
            "tensor(4.7419, device='cuda:0', grad_fn=<MaxBackward1>) ::: tensor(-7.5275, device='cuda:0', grad_fn=<MinBackward1>)\n",
            "tensor(7.8930, device='cuda:0', grad_fn=<MaxBackward1>) ::: tensor(-7.1126, device='cuda:0', grad_fn=<MinBackward1>)\n",
            "tensor(5.9030, device='cuda:0', grad_fn=<MaxBackward1>) ::: tensor(-9.4390, device='cuda:0', grad_fn=<MinBackward1>)\n",
            "tensor(2.0012, device='cuda:0', grad_fn=<MaxBackward1>) ::: tensor(-6.4811, device='cuda:0', grad_fn=<MinBackward1>)\n",
            "tensor(8.2236, device='cuda:0', grad_fn=<MaxBackward1>) ::: tensor(-8.9024, device='cuda:0', grad_fn=<MinBackward1>)\n",
            "tensor(4.6460, device='cuda:0', grad_fn=<MaxBackward1>) ::: tensor(-6.0910, device='cuda:0', grad_fn=<MinBackward1>)\n",
            "tensor(6.5080, device='cuda:0', grad_fn=<MaxBackward1>) ::: tensor(-9.2616, device='cuda:0', grad_fn=<MinBackward1>)\n",
            "tensor(9.5307, device='cuda:0', grad_fn=<MaxBackward1>) ::: tensor(-8.5700, device='cuda:0', grad_fn=<MinBackward1>)\n",
            "tensor(7.6310, device='cuda:0', grad_fn=<MaxBackward1>) ::: tensor(-4.9176, device='cuda:0', grad_fn=<MinBackward1>)\n",
            "tensor(11.1100, device='cuda:0', grad_fn=<MaxBackward1>) ::: tensor(-5.0001, device='cuda:0', grad_fn=<MinBackward1>)\n",
            "tensor(10.8814, device='cuda:0', grad_fn=<MaxBackward1>) ::: tensor(-4.7716, device='cuda:0', grad_fn=<MinBackward1>)\n",
            "tensor(7.9548, device='cuda:0', grad_fn=<MaxBackward1>) ::: tensor(-3.6780, device='cuda:0', grad_fn=<MinBackward1>)\n",
            "tensor(11.9226, device='cuda:0', grad_fn=<MaxBackward1>) ::: tensor(-3.2857, device='cuda:0', grad_fn=<MinBackward1>)\n",
            "tensor(12.6097, device='cuda:0', grad_fn=<MaxBackward1>) ::: tensor(-6.2156, device='cuda:0', grad_fn=<MinBackward1>)\n",
            "tensor(7.8772, device='cuda:0', grad_fn=<MaxBackward1>) ::: tensor(-7.7433, device='cuda:0', grad_fn=<MinBackward1>)\n",
            "tensor(11.1983, device='cuda:0', grad_fn=<MaxBackward1>) ::: tensor(-6.9437, device='cuda:0', grad_fn=<MinBackward1>)\n",
            "tensor(9.6383, device='cuda:0', grad_fn=<MaxBackward1>) ::: tensor(-4.5721, device='cuda:0', grad_fn=<MinBackward1>)\n",
            "tensor(9.6332, device='cuda:0', grad_fn=<MaxBackward1>) ::: tensor(-6.2131, device='cuda:0', grad_fn=<MinBackward1>)\n",
            "tensor(8.4188, device='cuda:0', grad_fn=<MaxBackward1>) ::: tensor(-6.0432, device='cuda:0', grad_fn=<MinBackward1>)\n",
            "tensor(11.5476, device='cuda:0', grad_fn=<MaxBackward1>) ::: tensor(-6.5405, device='cuda:0', grad_fn=<MinBackward1>)\n",
            "tensor(7.0887, device='cuda:0', grad_fn=<MaxBackward1>) ::: tensor(-5.5035, device='cuda:0', grad_fn=<MinBackward1>)\n",
            "tensor(5.3902, device='cuda:0', grad_fn=<MaxBackward1>) ::: tensor(-7.0474, device='cuda:0', grad_fn=<MinBackward1>)\n",
            "tensor(7.1190, device='cuda:0', grad_fn=<MaxBackward1>) ::: tensor(-6.5967, device='cuda:0', grad_fn=<MinBackward1>)\n",
            "tensor(6.9381, device='cuda:0', grad_fn=<MaxBackward1>) ::: tensor(-9.1337, device='cuda:0', grad_fn=<MinBackward1>)\n",
            "tensor(6.6027, device='cuda:0', grad_fn=<MaxBackward1>) ::: tensor(-9.9288, device='cuda:0', grad_fn=<MinBackward1>)\n",
            "tensor(6.1565, device='cuda:0', grad_fn=<MaxBackward1>) ::: tensor(-4.0005, device='cuda:0', grad_fn=<MinBackward1>)\n",
            "tensor(6.9193, device='cuda:0', grad_fn=<MaxBackward1>) ::: tensor(-8.3915, device='cuda:0', grad_fn=<MinBackward1>)\n",
            "tensor(4.2877, device='cuda:0', grad_fn=<MaxBackward1>) ::: tensor(-4.0293, device='cuda:0', grad_fn=<MinBackward1>)\n",
            "tensor(7.8788, device='cuda:0', grad_fn=<MaxBackward1>) ::: tensor(-5.2242, device='cuda:0', grad_fn=<MinBackward1>)\n",
            "tensor(9.8152, device='cuda:0', grad_fn=<MaxBackward1>) ::: tensor(-7.6107, device='cuda:0', grad_fn=<MinBackward1>)\n",
            "tensor(10.0359, device='cuda:0', grad_fn=<MaxBackward1>) ::: tensor(-7.7028, device='cuda:0', grad_fn=<MinBackward1>)\n",
            "tensor(4.0230, device='cuda:0', grad_fn=<MaxBackward1>) ::: tensor(-6.4529, device='cuda:0', grad_fn=<MinBackward1>)\n",
            "tensor(6.3981, device='cuda:0', grad_fn=<MaxBackward1>) ::: tensor(-5.8815, device='cuda:0', grad_fn=<MinBackward1>)\n",
            "tensor(4.1978, device='cuda:0', grad_fn=<MaxBackward1>) ::: tensor(-12.5179, device='cuda:0', grad_fn=<MinBackward1>)\n",
            "tensor(6.5370, device='cuda:0', grad_fn=<MaxBackward1>) ::: tensor(-13.0423, device='cuda:0', grad_fn=<MinBackward1>)\n",
            "tensor(7.3913, device='cuda:0', grad_fn=<MaxBackward1>) ::: tensor(-9.1735, device='cuda:0', grad_fn=<MinBackward1>)\n",
            "tensor(5.8595, device='cuda:0', grad_fn=<MaxBackward1>) ::: tensor(-10.1267, device='cuda:0', grad_fn=<MinBackward1>)\n",
            "tensor(7.3214, device='cuda:0', grad_fn=<MaxBackward1>) ::: tensor(-7.9669, device='cuda:0', grad_fn=<MinBackward1>)\n",
            "tensor(4.1927, device='cuda:0', grad_fn=<MaxBackward1>) ::: tensor(-4.3005, device='cuda:0', grad_fn=<MinBackward1>)\n",
            "tensor(8.9969, device='cuda:0', grad_fn=<MaxBackward1>) ::: tensor(-8.1816, device='cuda:0', grad_fn=<MinBackward1>)\n",
            "tensor(7.6595, device='cuda:0', grad_fn=<MaxBackward1>) ::: tensor(-4.9876, device='cuda:0', grad_fn=<MinBackward1>)\n",
            "tensor(9.1063, device='cuda:0', grad_fn=<MaxBackward1>) ::: tensor(-10.0119, device='cuda:0', grad_fn=<MinBackward1>)\n",
            "tensor(10.3636, device='cuda:0', grad_fn=<MaxBackward1>) ::: tensor(-2.8536, device='cuda:0', grad_fn=<MinBackward1>)\n",
            "tensor(9.9210, device='cuda:0', grad_fn=<MaxBackward1>) ::: tensor(-2.0830, device='cuda:0', grad_fn=<MinBackward1>)\n",
            "tensor(6.9180, device='cuda:0', grad_fn=<MaxBackward1>) ::: tensor(-6.7313, device='cuda:0', grad_fn=<MinBackward1>)\n",
            "tensor(7.3530, device='cuda:0', grad_fn=<MaxBackward1>) ::: tensor(-9.4400, device='cuda:0', grad_fn=<MinBackward1>)\n",
            "tensor(7.0237, device='cuda:0', grad_fn=<MaxBackward1>) ::: tensor(-10.8435, device='cuda:0', grad_fn=<MinBackward1>)\n",
            "tensor(5.1383, device='cuda:0', grad_fn=<MaxBackward1>) ::: tensor(-7.5372, device='cuda:0', grad_fn=<MinBackward1>)\n",
            "tensor(2.1782, device='cuda:0', grad_fn=<MaxBackward1>) ::: tensor(-8.9653, device='cuda:0', grad_fn=<MinBackward1>)\n",
            "tensor(8.4293, device='cuda:0', grad_fn=<MaxBackward1>) ::: tensor(-8.9832, device='cuda:0', grad_fn=<MinBackward1>)\n",
            "tensor(6.1056, device='cuda:0', grad_fn=<MaxBackward1>) ::: tensor(-11.4521, device='cuda:0', grad_fn=<MinBackward1>)\n",
            "tensor(6.0254, device='cuda:0', grad_fn=<MaxBackward1>) ::: tensor(-12.9134, device='cuda:0', grad_fn=<MinBackward1>)\n",
            "tensor(7.2463, device='cuda:0', grad_fn=<MaxBackward1>) ::: tensor(-8.2116, device='cuda:0', grad_fn=<MinBackward1>)\n",
            "tensor(9.9622, device='cuda:0', grad_fn=<MaxBackward1>) ::: tensor(-10.7344, device='cuda:0', grad_fn=<MinBackward1>)\n",
            "tensor(9.4724, device='cuda:0', grad_fn=<MaxBackward1>) ::: tensor(-9.4950, device='cuda:0', grad_fn=<MinBackward1>)\n",
            "tensor(3.0581, device='cuda:0', grad_fn=<MaxBackward1>) ::: tensor(-10.2494, device='cuda:0', grad_fn=<MinBackward1>)\n",
            "tensor(6.8419, device='cuda:0', grad_fn=<MaxBackward1>) ::: tensor(-12.7196, device='cuda:0', grad_fn=<MinBackward1>)\n",
            "tensor(6.1570, device='cuda:0', grad_fn=<MaxBackward1>) ::: tensor(-7.9547, device='cuda:0', grad_fn=<MinBackward1>)\n",
            "tensor(13.1333, device='cuda:0', grad_fn=<MaxBackward1>) ::: tensor(-7.7315, device='cuda:0', grad_fn=<MinBackward1>)\n",
            "tensor(2.0581, device='cuda:0', grad_fn=<MaxBackward1>) ::: tensor(-10.2284, device='cuda:0', grad_fn=<MinBackward1>)\n",
            "tensor(7.1078, device='cuda:0', grad_fn=<MaxBackward1>) ::: tensor(-5.4349, device='cuda:0', grad_fn=<MinBackward1>)\n",
            "tensor(9.6383, device='cuda:0', grad_fn=<MaxBackward1>) ::: tensor(-5.9037, device='cuda:0', grad_fn=<MinBackward1>)\n",
            "tensor(9.9425, device='cuda:0', grad_fn=<MaxBackward1>) ::: tensor(-6.9843, device='cuda:0', grad_fn=<MinBackward1>)\n",
            "tensor(8.7582, device='cuda:0', grad_fn=<MaxBackward1>) ::: tensor(-9.4430, device='cuda:0', grad_fn=<MinBackward1>)\n",
            "tensor(6.4725, device='cuda:0', grad_fn=<MaxBackward1>) ::: tensor(-11.4806, device='cuda:0', grad_fn=<MinBackward1>)\n",
            "tensor(6.8917, device='cuda:0', grad_fn=<MaxBackward1>) ::: tensor(-9.1895, device='cuda:0', grad_fn=<MinBackward1>)\n",
            "tensor(5.8905, device='cuda:0', grad_fn=<MaxBackward1>) ::: tensor(-10.9430, device='cuda:0', grad_fn=<MinBackward1>)\n",
            "tensor(7.0363, device='cuda:0', grad_fn=<MaxBackward1>) ::: tensor(-9.2561, device='cuda:0', grad_fn=<MinBackward1>)\n",
            "tensor(9.4571, device='cuda:0', grad_fn=<MaxBackward1>) ::: tensor(-11.1078, device='cuda:0', grad_fn=<MinBackward1>)\n",
            "tensor(11.2706, device='cuda:0', grad_fn=<MaxBackward1>) ::: tensor(-7.0900, device='cuda:0', grad_fn=<MinBackward1>)\n",
            "tensor(6.4540, device='cuda:0', grad_fn=<MaxBackward1>) ::: tensor(-8.1513, device='cuda:0', grad_fn=<MinBackward1>)\n",
            "tensor(11.5188, device='cuda:0', grad_fn=<MaxBackward1>) ::: tensor(-10.0476, device='cuda:0', grad_fn=<MinBackward1>)\n",
            "tensor(8.9841, device='cuda:0', grad_fn=<MaxBackward1>) ::: tensor(-7.1881, device='cuda:0', grad_fn=<MinBackward1>)\n",
            "tensor(6.5925, device='cuda:0', grad_fn=<MaxBackward1>) ::: tensor(-9.0629, device='cuda:0', grad_fn=<MinBackward1>)\n",
            "tensor(12.5869, device='cuda:0', grad_fn=<MaxBackward1>) ::: tensor(-6.1705, device='cuda:0', grad_fn=<MinBackward1>)\n",
            "tensor(10.3409, device='cuda:0', grad_fn=<MaxBackward1>) ::: tensor(-2.0663, device='cuda:0', grad_fn=<MinBackward1>)\n",
            "tensor(6.4730, device='cuda:0', grad_fn=<MaxBackward1>) ::: tensor(-2.8210, device='cuda:0', grad_fn=<MinBackward1>)\n",
            "tensor(9.1992, device='cuda:0', grad_fn=<MaxBackward1>) ::: tensor(-5.0010, device='cuda:0', grad_fn=<MinBackward1>)\n",
            "tensor(8.5489, device='cuda:0', grad_fn=<MaxBackward1>) ::: tensor(-6.7567, device='cuda:0', grad_fn=<MinBackward1>)\n",
            "tensor(9.3246, device='cuda:0', grad_fn=<MaxBackward1>) ::: tensor(-6.1405, device='cuda:0', grad_fn=<MinBackward1>)\n",
            "tensor(4.0991, device='cuda:0', grad_fn=<MaxBackward1>) ::: tensor(-11.5218, device='cuda:0', grad_fn=<MinBackward1>)\n",
            "tensor(7.8466, device='cuda:0', grad_fn=<MaxBackward1>) ::: tensor(-3.7051, device='cuda:0', grad_fn=<MinBackward1>)\n",
            "tensor(5.6866, device='cuda:0', grad_fn=<MaxBackward1>) ::: tensor(-10.8258, device='cuda:0', grad_fn=<MinBackward1>)\n",
            "tensor(14.3565, device='cuda:0', grad_fn=<MaxBackward1>) ::: tensor(-8.5422, device='cuda:0', grad_fn=<MinBackward1>)\n",
            "tensor(4.2625, device='cuda:0', grad_fn=<MaxBackward1>) ::: tensor(-11.2985, device='cuda:0', grad_fn=<MinBackward1>)\n",
            "tensor(5.8509, device='cuda:0', grad_fn=<MaxBackward1>) ::: tensor(-7.2681, device='cuda:0', grad_fn=<MinBackward1>)\n",
            "tensor(8.2236, device='cuda:0', grad_fn=<MaxBackward1>) ::: tensor(-4.5140, device='cuda:0', grad_fn=<MinBackward1>)\n",
            "tensor(6.9610, device='cuda:0', grad_fn=<MaxBackward1>) ::: tensor(-7.6292, device='cuda:0', grad_fn=<MinBackward1>)\n",
            "tensor(4.8579, device='cuda:0', grad_fn=<MaxBackward1>) ::: tensor(-9.9372, device='cuda:0', grad_fn=<MinBackward1>)\n",
            "tensor(8.3419, device='cuda:0', grad_fn=<MaxBackward1>) ::: tensor(-5.0582, device='cuda:0', grad_fn=<MinBackward1>)\n",
            "tensor(9.6397, device='cuda:0', grad_fn=<MaxBackward1>) ::: tensor(-6.3969, device='cuda:0', grad_fn=<MinBackward1>)\n",
            "tensor(9.4638, device='cuda:0', grad_fn=<MaxBackward1>) ::: tensor(-7.6428, device='cuda:0', grad_fn=<MinBackward1>)\n",
            "tensor(8.4703, device='cuda:0', grad_fn=<MaxBackward1>) ::: tensor(-7.7772, device='cuda:0', grad_fn=<MinBackward1>)\n",
            "tensor(7.6805, device='cuda:0', grad_fn=<MaxBackward1>) ::: tensor(-4.8462, device='cuda:0', grad_fn=<MinBackward1>)\n",
            "tensor(7.5798, device='cuda:0', grad_fn=<MaxBackward1>) ::: tensor(-7.4356, device='cuda:0', grad_fn=<MinBackward1>)\n",
            "tensor(7.0802, device='cuda:0', grad_fn=<MaxBackward1>) ::: tensor(-5.7599, device='cuda:0', grad_fn=<MinBackward1>)\n",
            "tensor(8.2812, device='cuda:0', grad_fn=<MaxBackward1>) ::: tensor(-9.5647, device='cuda:0', grad_fn=<MinBackward1>)\n",
            "tensor(10.4646, device='cuda:0', grad_fn=<MaxBackward1>) ::: tensor(-4.2695, device='cuda:0', grad_fn=<MinBackward1>)\n",
            "tensor(5.4825, device='cuda:0', grad_fn=<MaxBackward1>) ::: tensor(-7.4409, device='cuda:0', grad_fn=<MinBackward1>)\n",
            "tensor(4.1406, device='cuda:0', grad_fn=<MaxBackward1>) ::: tensor(-4.7784, device='cuda:0', grad_fn=<MinBackward1>)\n",
            "tensor(7.1872, device='cuda:0', grad_fn=<MaxBackward1>) ::: tensor(-8.2939, device='cuda:0', grad_fn=<MinBackward1>)\n",
            "tensor(7.4608, device='cuda:0', grad_fn=<MaxBackward1>) ::: tensor(-10.2955, device='cuda:0', grad_fn=<MinBackward1>)\n",
            "tensor(6.5973, device='cuda:0', grad_fn=<MaxBackward1>) ::: tensor(-5.2327, device='cuda:0', grad_fn=<MinBackward1>)\n",
            "tensor(5.2691, device='cuda:0', grad_fn=<MaxBackward1>) ::: tensor(-9.1004, device='cuda:0', grad_fn=<MinBackward1>)\n",
            "tensor(6.3506, device='cuda:0', grad_fn=<MaxBackward1>) ::: tensor(-6.6262, device='cuda:0', grad_fn=<MinBackward1>)\n",
            "tensor(8.0834, device='cuda:0', grad_fn=<MaxBackward1>) ::: tensor(-9.0857, device='cuda:0', grad_fn=<MinBackward1>)\n",
            "tensor(11.8672, device='cuda:0', grad_fn=<MaxBackward1>) ::: tensor(-10.3379, device='cuda:0', grad_fn=<MinBackward1>)\n",
            "tensor(6.9285, device='cuda:0', grad_fn=<MaxBackward1>) ::: tensor(-9.6341, device='cuda:0', grad_fn=<MinBackward1>)\n",
            "tensor(8.4697, device='cuda:0', grad_fn=<MaxBackward1>) ::: tensor(-9.0689, device='cuda:0', grad_fn=<MinBackward1>)\n",
            "tensor(7.2258, device='cuda:0', grad_fn=<MaxBackward1>) ::: tensor(-12.9414, device='cuda:0', grad_fn=<MinBackward1>)\n",
            "tensor(10.2083, device='cuda:0', grad_fn=<MaxBackward1>) ::: tensor(-4.6725, device='cuda:0', grad_fn=<MinBackward1>)\n",
            "tensor(10.6788, device='cuda:0', grad_fn=<MaxBackward1>) ::: tensor(-8.9717, device='cuda:0', grad_fn=<MinBackward1>)\n",
            "tensor(5.5932, device='cuda:0', grad_fn=<MaxBackward1>) ::: tensor(-8.7117, device='cuda:0', grad_fn=<MinBackward1>)\n",
            "tensor(7.6558, device='cuda:0', grad_fn=<MaxBackward1>) ::: tensor(-8.4682, device='cuda:0', grad_fn=<MinBackward1>)\n",
            "tensor(6.8547, device='cuda:0', grad_fn=<MaxBackward1>) ::: tensor(-9.0091, device='cuda:0', grad_fn=<MinBackward1>)\n",
            "tensor(8.8812, device='cuda:0', grad_fn=<MaxBackward1>) ::: tensor(-8.2798, device='cuda:0', grad_fn=<MinBackward1>)\n",
            "tensor(11.1354, device='cuda:0', grad_fn=<MaxBackward1>) ::: tensor(-2.6559, device='cuda:0', grad_fn=<MinBackward1>)\n",
            "tensor(6.3938, device='cuda:0', grad_fn=<MaxBackward1>) ::: tensor(-11.8356, device='cuda:0', grad_fn=<MinBackward1>)\n",
            "tensor(12.6231, device='cuda:0', grad_fn=<MaxBackward1>) ::: tensor(-6.5737, device='cuda:0', grad_fn=<MinBackward1>)\n",
            "tensor(8.7696, device='cuda:0', grad_fn=<MaxBackward1>) ::: tensor(-7.0042, device='cuda:0', grad_fn=<MinBackward1>)\n",
            "tensor(6.3065, device='cuda:0', grad_fn=<MaxBackward1>) ::: tensor(-7.6022, device='cuda:0', grad_fn=<MinBackward1>)\n",
            "tensor(2.6813, device='cuda:0', grad_fn=<MaxBackward1>) ::: tensor(-7.1997, device='cuda:0', grad_fn=<MinBackward1>)\n",
            "tensor(10.1838, device='cuda:0', grad_fn=<MaxBackward1>) ::: tensor(-9.2096, device='cuda:0', grad_fn=<MinBackward1>)\n",
            "tensor(2.7446, device='cuda:0', grad_fn=<MaxBackward1>) ::: tensor(-10.3056, device='cuda:0', grad_fn=<MinBackward1>)\n",
            "tensor(9.3580, device='cuda:0', grad_fn=<MaxBackward1>) ::: tensor(-10.9982, device='cuda:0', grad_fn=<MinBackward1>)\n",
            "tensor(8.4133, device='cuda:0', grad_fn=<MaxBackward1>) ::: tensor(-7.1083, device='cuda:0', grad_fn=<MinBackward1>)\n",
            "tensor(5.5625, device='cuda:0', grad_fn=<MaxBackward1>) ::: tensor(-6.4448, device='cuda:0', grad_fn=<MinBackward1>)\n",
            "tensor(7.6809, device='cuda:0', grad_fn=<MaxBackward1>) ::: tensor(-6.6206, device='cuda:0', grad_fn=<MinBackward1>)\n",
            "tensor(7.9981, device='cuda:0', grad_fn=<MaxBackward1>) ::: tensor(-10.8026, device='cuda:0', grad_fn=<MinBackward1>)\n",
            "tensor(11.5049, device='cuda:0', grad_fn=<MaxBackward1>) ::: tensor(-5.0689, device='cuda:0', grad_fn=<MinBackward1>)\n",
            "tensor(8.8643, device='cuda:0', grad_fn=<MaxBackward1>) ::: tensor(-3.6431, device='cuda:0', grad_fn=<MinBackward1>)\n",
            "tensor(6.5778, device='cuda:0', grad_fn=<MaxBackward1>) ::: tensor(-5.9234, device='cuda:0', grad_fn=<MinBackward1>)\n",
            "tensor(9.6585, device='cuda:0', grad_fn=<MaxBackward1>) ::: tensor(-6.0399, device='cuda:0', grad_fn=<MinBackward1>)\n",
            "tensor(15.1640, device='cuda:0', grad_fn=<MaxBackward1>) ::: tensor(-6.0448, device='cuda:0', grad_fn=<MinBackward1>)\n",
            "tensor(7.7675, device='cuda:0', grad_fn=<MaxBackward1>) ::: tensor(-4.9306, device='cuda:0', grad_fn=<MinBackward1>)\n",
            "tensor(10.5057, device='cuda:0', grad_fn=<MaxBackward1>) ::: tensor(-7.0330, device='cuda:0', grad_fn=<MinBackward1>)\n",
            "tensor(6.0834, device='cuda:0', grad_fn=<MaxBackward1>) ::: tensor(-5.9156, device='cuda:0', grad_fn=<MinBackward1>)\n",
            "tensor(10.7843, device='cuda:0', grad_fn=<MaxBackward1>) ::: tensor(-6.2175, device='cuda:0', grad_fn=<MinBackward1>)\n",
            "tensor(8.6799, device='cuda:0', grad_fn=<MaxBackward1>) ::: tensor(-8.8262, device='cuda:0', grad_fn=<MinBackward1>)\n",
            "tensor(12.0309, device='cuda:0', grad_fn=<MaxBackward1>) ::: tensor(-11.2158, device='cuda:0', grad_fn=<MinBackward1>)\n",
            "tensor(4.0626, device='cuda:0', grad_fn=<MaxBackward1>) ::: tensor(-8.0640, device='cuda:0', grad_fn=<MinBackward1>)\n",
            "tensor(6.3613, device='cuda:0', grad_fn=<MaxBackward1>) ::: tensor(-10.6827, device='cuda:0', grad_fn=<MinBackward1>)\n",
            "tensor(4.8041, device='cuda:0', grad_fn=<MaxBackward1>) ::: tensor(-10.5159, device='cuda:0', grad_fn=<MinBackward1>)\n",
            "tensor(5.8211, device='cuda:0', grad_fn=<MaxBackward1>) ::: tensor(-7.5173, device='cuda:0', grad_fn=<MinBackward1>)\n",
            "tensor(8.9065, device='cuda:0', grad_fn=<MaxBackward1>) ::: tensor(-7.4711, device='cuda:0', grad_fn=<MinBackward1>)\n",
            "tensor(5.4711, device='cuda:0', grad_fn=<MaxBackward1>) ::: tensor(-8.7920, device='cuda:0', grad_fn=<MinBackward1>)\n",
            "tensor(10.1954, device='cuda:0', grad_fn=<MaxBackward1>) ::: tensor(-9.4751, device='cuda:0', grad_fn=<MinBackward1>)\n",
            "tensor(6.2033, device='cuda:0', grad_fn=<MaxBackward1>) ::: tensor(-13.5754, device='cuda:0', grad_fn=<MinBackward1>)\n",
            "tensor(10.3900, device='cuda:0', grad_fn=<MaxBackward1>) ::: tensor(-8.5566, device='cuda:0', grad_fn=<MinBackward1>)\n",
            "tensor(5.6959, device='cuda:0', grad_fn=<MaxBackward1>) ::: tensor(-6.7110, device='cuda:0', grad_fn=<MinBackward1>)\n",
            "tensor(5.9068, device='cuda:0', grad_fn=<MaxBackward1>) ::: tensor(-5.2738, device='cuda:0', grad_fn=<MinBackward1>)\n",
            "tensor(6.7431, device='cuda:0', grad_fn=<MaxBackward1>) ::: tensor(-7.4354, device='cuda:0', grad_fn=<MinBackward1>)\n",
            "tensor(11.9338, device='cuda:0', grad_fn=<MaxBackward1>) ::: tensor(-6.7898, device='cuda:0', grad_fn=<MinBackward1>)\n",
            "tensor(8.2497, device='cuda:0', grad_fn=<MaxBackward1>) ::: tensor(-6.2863, device='cuda:0', grad_fn=<MinBackward1>)\n",
            "tensor(6.8084, device='cuda:0', grad_fn=<MaxBackward1>) ::: tensor(-5.5949, device='cuda:0', grad_fn=<MinBackward1>)\n",
            "tensor(8.8348, device='cuda:0', grad_fn=<MaxBackward1>) ::: tensor(-5.6773, device='cuda:0', grad_fn=<MinBackward1>)\n",
            "tensor(7.1229, device='cuda:0', grad_fn=<MaxBackward1>) ::: tensor(-9.7429, device='cuda:0', grad_fn=<MinBackward1>)\n",
            "tensor(10.9733, device='cuda:0', grad_fn=<MaxBackward1>) ::: tensor(-4.8324, device='cuda:0', grad_fn=<MinBackward1>)\n",
            "tensor(12.7719, device='cuda:0', grad_fn=<MaxBackward1>) ::: tensor(-8.8433, device='cuda:0', grad_fn=<MinBackward1>)\n",
            "tensor(8.8885, device='cuda:0', grad_fn=<MaxBackward1>) ::: tensor(-11.7475, device='cuda:0', grad_fn=<MinBackward1>)\n",
            "tensor(3.1341, device='cuda:0', grad_fn=<MaxBackward1>) ::: tensor(-8.4716, device='cuda:0', grad_fn=<MinBackward1>)\n",
            "tensor(9.3217, device='cuda:0', grad_fn=<MaxBackward1>) ::: tensor(-7.2612, device='cuda:0', grad_fn=<MinBackward1>)\n",
            "tensor(8.5376, device='cuda:0', grad_fn=<MaxBackward1>) ::: tensor(-11.2685, device='cuda:0', grad_fn=<MinBackward1>)\n",
            "tensor(6.9296, device='cuda:0', grad_fn=<MaxBackward1>) ::: tensor(-17.1085, device='cuda:0', grad_fn=<MinBackward1>)\n",
            "tensor(5.8751, device='cuda:0', grad_fn=<MaxBackward1>) ::: tensor(-7.1926, device='cuda:0', grad_fn=<MinBackward1>)\n",
            "tensor(3.9697, device='cuda:0', grad_fn=<MaxBackward1>) ::: tensor(-12.4798, device='cuda:0', grad_fn=<MinBackward1>)\n",
            "tensor(5.3384, device='cuda:0', grad_fn=<MaxBackward1>) ::: tensor(-10.1691, device='cuda:0', grad_fn=<MinBackward1>)\n",
            "tensor(8.4758, device='cuda:0', grad_fn=<MaxBackward1>) ::: tensor(-9.5856, device='cuda:0', grad_fn=<MinBackward1>)\n",
            "tensor(6.5604, device='cuda:0', grad_fn=<MaxBackward1>) ::: tensor(-15.7660, device='cuda:0', grad_fn=<MinBackward1>)\n",
            "tensor(9.5410, device='cuda:0', grad_fn=<MaxBackward1>) ::: tensor(-6.4111, device='cuda:0', grad_fn=<MinBackward1>)\n",
            "tensor(7.2514, device='cuda:0', grad_fn=<MaxBackward1>) ::: tensor(-6.8138, device='cuda:0', grad_fn=<MinBackward1>)\n",
            "tensor(7.6866, device='cuda:0', grad_fn=<MaxBackward1>) ::: tensor(-8.4497, device='cuda:0', grad_fn=<MinBackward1>)\n",
            "tensor(8.5009, device='cuda:0', grad_fn=<MaxBackward1>) ::: tensor(-6.8987, device='cuda:0', grad_fn=<MinBackward1>)\n",
            "tensor(8.0091, device='cuda:0', grad_fn=<MaxBackward1>) ::: tensor(-10.9807, device='cuda:0', grad_fn=<MinBackward1>)\n",
            "tensor(9.7203, device='cuda:0', grad_fn=<MaxBackward1>) ::: tensor(-11.3889, device='cuda:0', grad_fn=<MinBackward1>)\n",
            "tensor(7.6581, device='cuda:0', grad_fn=<MaxBackward1>) ::: tensor(-4.3838, device='cuda:0', grad_fn=<MinBackward1>)\n",
            "tensor(11.9517, device='cuda:0', grad_fn=<MaxBackward1>) ::: tensor(-7.0601, device='cuda:0', grad_fn=<MinBackward1>)\n",
            "tensor(5.7072, device='cuda:0', grad_fn=<MaxBackward1>) ::: tensor(-6.9139, device='cuda:0', grad_fn=<MinBackward1>)\n",
            "tensor(6.7570, device='cuda:0', grad_fn=<MaxBackward1>) ::: tensor(-7.1316, device='cuda:0', grad_fn=<MinBackward1>)\n",
            "tensor(8.8199, device='cuda:0', grad_fn=<MaxBackward1>) ::: tensor(-7.1305, device='cuda:0', grad_fn=<MinBackward1>)\n",
            "tensor(10.6471, device='cuda:0', grad_fn=<MaxBackward1>) ::: tensor(-7.8196, device='cuda:0', grad_fn=<MinBackward1>)\n",
            "tensor(9.3439, device='cuda:0', grad_fn=<MaxBackward1>) ::: tensor(-6.2447, device='cuda:0', grad_fn=<MinBackward1>)\n",
            "tensor(4.9658, device='cuda:0', grad_fn=<MaxBackward1>) ::: tensor(-7.9080, device='cuda:0', grad_fn=<MinBackward1>)\n",
            "tensor(5.2962, device='cuda:0', grad_fn=<MaxBackward1>) ::: tensor(-7.5831, device='cuda:0', grad_fn=<MinBackward1>)\n",
            "tensor(8.4937, device='cuda:0', grad_fn=<MaxBackward1>) ::: tensor(-6.7908, device='cuda:0', grad_fn=<MinBackward1>)\n",
            "tensor(11.6719, device='cuda:0', grad_fn=<MaxBackward1>) ::: tensor(-8.2426, device='cuda:0', grad_fn=<MinBackward1>)\n",
            "tensor(11.1930, device='cuda:0', grad_fn=<MaxBackward1>) ::: tensor(-5.3562, device='cuda:0', grad_fn=<MinBackward1>)\n",
            "tensor(6.2209, device='cuda:0', grad_fn=<MaxBackward1>) ::: tensor(-12.7084, device='cuda:0', grad_fn=<MinBackward1>)\n",
            "tensor(8.1774, device='cuda:0', grad_fn=<MaxBackward1>) ::: tensor(-13.6386, device='cuda:0', grad_fn=<MinBackward1>)\n",
            "tensor(6.3572, device='cuda:0', grad_fn=<MaxBackward1>) ::: tensor(-12.2631, device='cuda:0', grad_fn=<MinBackward1>)\n",
            "tensor(10.8700, device='cuda:0', grad_fn=<MaxBackward1>) ::: tensor(-11.1771, device='cuda:0', grad_fn=<MinBackward1>)\n",
            "tensor(5.1390, device='cuda:0', grad_fn=<MaxBackward1>) ::: tensor(-9.9221, device='cuda:0', grad_fn=<MinBackward1>)\n",
            "tensor(8.0481, device='cuda:0', grad_fn=<MaxBackward1>) ::: tensor(-9.8404, device='cuda:0', grad_fn=<MinBackward1>)\n",
            "tensor(5.6820, device='cuda:0', grad_fn=<MaxBackward1>) ::: tensor(-7.8698, device='cuda:0', grad_fn=<MinBackward1>)\n",
            "tensor(8.3799, device='cuda:0', grad_fn=<MaxBackward1>) ::: tensor(-5.8343, device='cuda:0', grad_fn=<MinBackward1>)\n",
            "tensor(9.0565, device='cuda:0', grad_fn=<MaxBackward1>) ::: tensor(-8.5953, device='cuda:0', grad_fn=<MinBackward1>)\n",
            "tensor(8.6413, device='cuda:0', grad_fn=<MaxBackward1>) ::: tensor(-8.3310, device='cuda:0', grad_fn=<MinBackward1>)\n",
            "tensor(5.8500, device='cuda:0', grad_fn=<MaxBackward1>) ::: tensor(-7.2120, device='cuda:0', grad_fn=<MinBackward1>)\n",
            "tensor(6.3049, device='cuda:0', grad_fn=<MaxBackward1>) ::: tensor(-7.8128, device='cuda:0', grad_fn=<MinBackward1>)\n",
            "tensor(9.2719, device='cuda:0', grad_fn=<MaxBackward1>) ::: tensor(-4.4808, device='cuda:0', grad_fn=<MinBackward1>)\n",
            "tensor(11.6940, device='cuda:0', grad_fn=<MaxBackward1>) ::: tensor(-8.4368, device='cuda:0', grad_fn=<MinBackward1>)\n",
            "tensor(7.4653, device='cuda:0', grad_fn=<MaxBackward1>) ::: tensor(-6.6424, device='cuda:0', grad_fn=<MinBackward1>)\n",
            "tensor(7.3168, device='cuda:0', grad_fn=<MaxBackward1>) ::: tensor(-7.2133, device='cuda:0', grad_fn=<MinBackward1>)\n",
            "tensor(9.3828, device='cuda:0', grad_fn=<MaxBackward1>) ::: tensor(-8.4294, device='cuda:0', grad_fn=<MinBackward1>)\n",
            "tensor(5.7660, device='cuda:0', grad_fn=<MaxBackward1>) ::: tensor(-5.4009, device='cuda:0', grad_fn=<MinBackward1>)\n",
            "tensor(5.1007, device='cuda:0', grad_fn=<MaxBackward1>) ::: tensor(-5.4247, device='cuda:0', grad_fn=<MinBackward1>)\n",
            "tensor(6.6337, device='cuda:0', grad_fn=<MaxBackward1>) ::: tensor(-7.7390, device='cuda:0', grad_fn=<MinBackward1>)\n",
            "tensor(8.8471, device='cuda:0', grad_fn=<MaxBackward1>) ::: tensor(-7.5288, device='cuda:0', grad_fn=<MinBackward1>)\n",
            "tensor(7.1798, device='cuda:0', grad_fn=<MaxBackward1>) ::: tensor(-11.4418, device='cuda:0', grad_fn=<MinBackward1>)\n",
            "tensor(6.9879, device='cuda:0', grad_fn=<MaxBackward1>) ::: tensor(-5.8270, device='cuda:0', grad_fn=<MinBackward1>)\n",
            "tensor(7.9925, device='cuda:0', grad_fn=<MaxBackward1>) ::: tensor(-8.0411, device='cuda:0', grad_fn=<MinBackward1>)\n",
            "tensor(7.1203, device='cuda:0', grad_fn=<MaxBackward1>) ::: tensor(-10.4953, device='cuda:0', grad_fn=<MinBackward1>)\n",
            "tensor(6.2945, device='cuda:0', grad_fn=<MaxBackward1>) ::: tensor(-9.4699, device='cuda:0', grad_fn=<MinBackward1>)\n",
            "tensor(0.9443, device='cuda:0', grad_fn=<MaxBackward1>) ::: tensor(-6.7601, device='cuda:0', grad_fn=<MinBackward1>)\n",
            "Epoch : 0, Loss : 0.8636588454246521\n"
          ]
        }
      ]
    },
    {
      "cell_type": "code",
      "metadata": {
        "id": "3v4nPt5peDNy"
      },
      "source": [
        ""
      ],
      "execution_count": null,
      "outputs": []
    },
    {
      "cell_type": "code",
      "metadata": {
        "id": "Z7zq2prEtGWo"
      },
      "source": [
        "# bert_ans, para_masks, headlines = torch.Tensor(bert_ans), torch.Tensor(para_masks.astype(np.float).astype(np.int).astype(np.bool)), torch.Tensor(headlines)"
      ],
      "execution_count": null,
      "outputs": []
    },
    {
      "cell_type": "code",
      "metadata": {
        "id": "HtzkTVrpzWQM"
      },
      "source": [
        "# para_masks = para_masks.bool()"
      ],
      "execution_count": null,
      "outputs": []
    },
    {
      "cell_type": "code",
      "metadata": {
        "colab": {
          "base_uri": "https://localhost:8080/"
        },
        "id": "lxS1XHt_y7w8",
        "outputId": "1734d829-2471-4cd4-b134-b4f0fd189ff8"
      },
      "source": [
        "# print(bert_ans.shape, para_masks.shape, headlines.shape)"
      ],
      "execution_count": null,
      "outputs": [
        {
          "output_type": "stream",
          "name": "stdout",
          "text": [
            "torch.Size([10, 50, 384]) torch.Size([10, 50]) torch.Size([10, 384])\n"
          ]
        }
      ]
    },
    {
      "cell_type": "code",
      "metadata": {
        "colab": {
          "base_uri": "https://localhost:8080/"
        },
        "id": "YbF4MmIOfX2c",
        "outputId": "19117f7e-2e0d-461c-d47f-6182e424833e"
      },
      "source": [
        ""
      ],
      "execution_count": null,
      "outputs": [
        {
          "output_type": "execute_result",
          "data": {
            "text/plain": [
              "tensor([0.0238, 0.0302, 0.0131, 0.0152, 0.0100, 0.0029, 0.0117, 0.0411, 0.0195,\n",
              "        0.0490], grad_fn=<SqueezeBackward0>)"
            ]
          },
          "metadata": {},
          "execution_count": 189
        }
      ]
    },
    {
      "cell_type": "code",
      "metadata": {
        "colab": {
          "base_uri": "https://localhost:8080/",
          "height": 205
        },
        "id": "zHbmwr5_Inlo",
        "outputId": "ed5dc896-1e97-4422-a0b9-29eff259934d"
      },
      "source": [
        "test_raw = pd.read_csv(\"drive/MyDrive/CSVALL/test.csv\", names=['headline', 'body', 'label'])\n",
        "test_raw.head()"
      ],
      "execution_count": null,
      "outputs": [
        {
          "output_type": "execute_result",
          "data": {
            "text/html": [
              "<div>\n",
              "<style scoped>\n",
              "    .dataframe tbody tr th:only-of-type {\n",
              "        vertical-align: middle;\n",
              "    }\n",
              "\n",
              "    .dataframe tbody tr th {\n",
              "        vertical-align: top;\n",
              "    }\n",
              "\n",
              "    .dataframe thead th {\n",
              "        text-align: right;\n",
              "    }\n",
              "</style>\n",
              "<table border=\"1\" class=\"dataframe\">\n",
              "  <thead>\n",
              "    <tr style=\"text-align: right;\">\n",
              "      <th></th>\n",
              "      <th>headline</th>\n",
              "      <th>body</th>\n",
              "      <th>label</th>\n",
              "    </tr>\n",
              "  </thead>\n",
              "  <tbody>\n",
              "    <tr>\n",
              "      <th>6578</th>\n",
              "      <td>Pence says Trump will keep his economic promises</td>\n",
              "      <td>Vice President Mike Pence is adamant that Pres...</td>\n",
              "      <td>0</td>\n",
              "    </tr>\n",
              "    <tr>\n",
              "      <th>6579</th>\n",
              "      <td>Police name two of the London Bridge terrorists</td>\n",
              "      <td>Two of the three London attackers were identif...</td>\n",
              "      <td>1</td>\n",
              "    </tr>\n",
              "    <tr>\n",
              "      <th>6580</th>\n",
              "      <td>Jimmy Carter Shakes Hands With Every Passenger...</td>\n",
              "      <td>The 92-year-old former president boarded a Del...</td>\n",
              "      <td>0</td>\n",
              "    </tr>\n",
              "    <tr>\n",
              "      <th>6581</th>\n",
              "      <td>Chris Matthews : ‘ We Don ’ t Know What Sadnes...</td>\n",
              "      <td>That ’ s another reason I read : to recognize ...</td>\n",
              "      <td>1</td>\n",
              "    </tr>\n",
              "    <tr>\n",
              "      <th>6582</th>\n",
              "      <td>Ex-Twitter CEO : Meeting with Trump like water...</td>\n",
              "      <td>Former Twitter CEO Dick Costolo said President...</td>\n",
              "      <td>0</td>\n",
              "    </tr>\n",
              "  </tbody>\n",
              "</table>\n",
              "</div>"
            ],
            "text/plain": [
              "                                               headline  ... label\n",
              "6578   Pence says Trump will keep his economic promises  ...     0\n",
              "6579    Police name two of the London Bridge terrorists  ...     1\n",
              "6580  Jimmy Carter Shakes Hands With Every Passenger...  ...     0\n",
              "6581  Chris Matthews : ‘ We Don ’ t Know What Sadnes...  ...     1\n",
              "6582  Ex-Twitter CEO : Meeting with Trump like water...  ...     0\n",
              "\n",
              "[5 rows x 3 columns]"
            ]
          },
          "metadata": {},
          "execution_count": 10
        }
      ]
    },
    {
      "cell_type": "code",
      "metadata": {
        "id": "ROUaspDPIkeF"
      },
      "source": [
        "# full_test_feat_flt = full_test_feat.reshape(full_test_feat.shape[0], full_test_feat.shape[1]*full_test_feat.shape[2])\n",
        "# full_test_feat_flt = full_test_feat_flt[:, -1050:]\n",
        "batch_size_test = 1024\n",
        "pred_on_test = []\n",
        "full_test_hs = []\n",
        "classifier.eval()\n",
        "with torch.no_grad():\n",
        "  for i in range(0, test_raw.shape[0], batch_size_test):\n",
        "      feat_on_tensor = test_raw[i:min(test_raw.shape[0], i+batch_size_test)]\n",
        "      headlines = model.encode(feat_on_tensor['headline']).cuda()\n",
        "      body_mask = feat_on_tensor['body'].apply(body_to_para)\n",
        "      bert_ans, para_masks = bertify(body_mask)\n",
        "      bert_ans.astype(np.float).astype(np.int).astype(np.bool).cuda()\n",
        "      para_masks.astype(np.float).astype(np.int).astype(np.bool).cuda()\n",
        "      y_pred = classifier(bert_ans, para_masks, headlines).cuda()\n",
        "      for e in y_pred.detach().cpu().numpy():\n",
        "          pred_on_test.append(e)\n",
        "      torch.cuda.empty_cache()\n",
        "# full_test_hs = np.array(full_test_hs)\n",
        "print(len(pred_on_test))"
      ],
      "execution_count": null,
      "outputs": []
    }
  ]
}